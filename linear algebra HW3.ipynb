{
 "cells": [
  {
   "cell_type": "code",
   "execution_count": 1,
   "metadata": {},
   "outputs": [],
   "source": [
    "%matplotlib inline\n",
    "\n",
    "import numpy as np\n",
    "import sympy as sp\n",
    "import random \n",
    "import matplotlib.pyplot as plt"
   ]
  },
  {
   "cell_type": "code",
   "execution_count": 2,
   "metadata": {},
   "outputs": [
    {
     "name": "stdout",
     "output_type": "stream",
     "text": [
      "input n:15\n",
      "input p:3\n"
     ]
    }
   ],
   "source": [
    "n = int(input(\"input n:\"))\n",
    "p = int(input(\"input p:\"))"
   ]
  },
  {
   "cell_type": "code",
   "execution_count": 3,
   "metadata": {},
   "outputs": [],
   "source": [
    "M = np.identity(n, sp.Rational)"
   ]
  },
  {
   "cell_type": "code",
   "execution_count": 4,
   "metadata": {},
   "outputs": [],
   "source": [
    "def operation1(M):\n",
    "    row = random.randint(0, n-1)\n",
    "    M[row] *= random.randint(2, 100)\n",
    "    return row\n",
    "def operation2(M):\n",
    "    rand_row2 = rand_row1 = random.randint(0, n-1)\n",
    "    while rand_row2 == rand_row1:\n",
    "        rand_row2 = random.randint(0, n-1)\n",
    "    M[[rand_row1, rand_row2], :] = M[[rand_row2, rand_row1], :]\n",
    "def operation3(M):\n",
    "    rand_row2 = rand_row1 = random.randint(0, n-1)\n",
    "    while rand_row2 == rand_row1:\n",
    "        rand_row2 = random.randint(0, n-1)\n",
    "    M[rand_row2] += M[rand_row1] * random.randint(1, 100)\n",
    "    return rand_row1, rand_row2"
   ]
  },
  {
   "cell_type": "code",
   "execution_count": 5,
   "metadata": {},
   "outputs": [
    {
     "name": "stdout",
     "output_type": "stream",
     "text": [
      " Elementary matrix using operation 3 :\n",
      " [[1 0 0 0 0 0 0 0 0 0 0 0 0 0 0]\n",
      " [0 1 0 0 0 0 0 0 0 0 0 0 0 0 0]\n",
      " [0 0 1 0 0 0 0 0 0 0 0 0 0 0 0]\n",
      " [0 0 0 1 0 0 0 0 0 0 0 0 0 0 0]\n",
      " [0 0 0 0 1 0 0 0 0 0 0 0 0 0 0]\n",
      " [0 0 0 0 0 1 0 0 0 0 0 0 0 0 0]\n",
      " [0 0 0 0 0 0 1 0 0 0 0 0 0 0 0]\n",
      " [0 0 0 0 0 0 0 1 0 0 0 0 0 0 0]\n",
      " [0 0 0 0 0 0 0 0 1 0 0 0 0 0 0]\n",
      " [0 0 0 0 0 0 0 0 0 1 0 0 0 0 0]\n",
      " [0 0 0 0 0 0 0 0 0 0 1 0 0 0 0]\n",
      " [0 0 0 0 0 0 0 0 0 0 0 1 0 0 0]\n",
      " [0 0 0 0 0 0 0 0 0 0 0 0 1 0 0]\n",
      " [0 0 0 0 0 0 0 0 0 0 0 73 0 1 0]\n",
      " [0 0 0 0 0 0 0 0 0 0 0 0 0 0 1]]\n"
     ]
    }
   ],
   "source": [
    "if p == 1:\n",
    "    operation1(M)\n",
    "elif p == 2:\n",
    "    operation2(M)\n",
    "elif p == 3:\n",
    "    operation3(M)\n",
    "print(\" Elementary matrix using operation\", p, \":\\n\", M)"
   ]
  },
  {
   "cell_type": "code",
   "execution_count": 6,
   "metadata": {},
   "outputs": [],
   "source": [
    "def inv(op, rand_row1, rand_row2):\n",
    "    if op == 1:\n",
    "        A[rand_row1][rand_row1] = sp.Rational(1, A[rand_row1][rand_row1])\n",
    "    elif op == 3:\n",
    "        A[rand_row2][rand_row1] *= -1"
   ]
  },
  {
   "cell_type": "code",
   "execution_count": 7,
   "metadata": {},
   "outputs": [
    {
     "name": "stdout",
     "output_type": "stream",
     "text": [
      "Invertible matrix M:\n",
      " [[0 0 0 0 7 0 0 0 0 0 0 35 0 0 0]\n",
      " [0 0 0 0 0 0 0 0 0 0 0 1 0 0 0]\n",
      " [0 77700 0 0 0 0 0 0 0 819 0 0 0 0 0]\n",
      " [0 0 100 244400 0 0 0 1 0 0 25568000 0 0 0 0]\n",
      " [0 806137500 2905 7099820 1061321 1577 0 0 0 0 742750400 4967550 415 0 0]\n",
      " [0 0 0 0 0 0 0 0 0 0 2295 0 0 0 0]\n",
      " [0 0 1 2444 0 0 0 0 0 0 255680 0 0 0 0]\n",
      " [0 0 93 227292 0 0 0 0 0 0 23778240 9603 0 0 6208]\n",
      " [0 0 0 0 0 0 0 0 1456 2704 0 0 0 0 0]\n",
      " [0 0 0 0 203 0 5 0 0 0 0 1015 0 0 0]\n",
      " [0 0 0 26 0 0 0 0 0 0 2720 0 0 7 0]\n",
      " [0 0 0 0 673 1 0 0 0 0 0 3150 0 0 0]\n",
      " [0 0 0 0 9135 0 225 0 0 0 0 45675 0 1 0]\n",
      " [1 0 0 0 2322 54 0 0 0 0 0 0 0 0 0]\n",
      " [0 0 0 0 0 0 0 0 0 13 0 0 0 0 0]]\n",
      "\n",
      "M's inverse:\n",
      " [[4860 0 0 0 0 0 0 0 0 0 0 -54 0 1 0]\n",
      " [0 0 1/77700 0 0 0 0 0 0 0 0 0 0 0 -3/3700]\n",
      " [0 0 0 0 0 0 1 0 0 -29610 -94 0 658 0 0]\n",
      " [0 0 0 0 0 -16/351 0 0 0 315/26 1/26 0 -7/26 0 0]\n",
      " [1/7 -5 0 0 0 0 0 0 0 0 0 0 0 0 0]\n",
      " [-673/7 215 0 0 0 0 0 0 0 0 0 1 0 0 0]\n",
      " [-29/5 0 0 0 0 0 0 0 0 1/5 0 0 0 0 0]\n",
      " [0 0 0 1 0 0 -100 0 0 0 0 0 0 0 0]\n",
      " [0 0 0 0 0 0 0 0 1/1456 0 0 0 0 0 -1/7]\n",
      " [0 0 0 0 0 0 0 0 0 0 0 0 0 0 1/13]\n",
      " [0 0 0 0 0 1/2295 0 0 0 0 0 0 0 0 0]\n",
      " [0 1 0 0 0 0 0 0 0 0 0 0 0 0 0]\n",
      " [0 0 -25 0 1/415 0 -7 0 0 0 0 -19/5 0 0 1575]\n",
      " [0 0 0 0 0 0 0 0 0 -45 0 0 1 0 0]\n",
      " [0 -99/64 0 0 0 0 -93/6208 1/6208 0 0 0 0 0 0 0]]\n",
      "\n",
      "M dot M's inverse:\n",
      " [[1 0 0 0 0 0 0 0 0 0 0 0 0 0 0]\n",
      " [0 1 0 0 0 0 0 0 0 0 0 0 0 0 0]\n",
      " [0 0 1 0 0 0 0 0 0 0 0 0 0 0 0]\n",
      " [0 0 0 1 0 0 0 0 0 0 0 0 0 0 0]\n",
      " [0 0 0 0 1 0 0 0 0 0 0 0 0 0 0]\n",
      " [0 0 0 0 0 1 0 0 0 0 0 0 0 0 0]\n",
      " [0 0 0 0 0 0 1 0 0 0 0 0 0 0 0]\n",
      " [0 0 0 0 0 0 0 1 0 0 0 0 0 0 0]\n",
      " [0 0 0 0 0 0 0 0 1 0 0 0 0 0 0]\n",
      " [0 0 0 0 0 0 0 0 0 1 0 0 0 0 0]\n",
      " [0 0 0 0 0 0 0 0 0 0 1 0 0 0 0]\n",
      " [0 0 0 0 0 0 0 0 0 0 0 1 0 0 0]\n",
      " [0 0 0 0 0 0 0 0 0 0 0 0 1 0 0]\n",
      " [0 0 0 0 0 0 0 0 0 0 0 0 0 1 0]\n",
      " [0 0 0 0 0 0 0 0 0 0 0 0 0 0 1]]\n"
     ]
    }
   ],
   "source": [
    "M = M_inv = np.identity(n, sp.Rational)\n",
    "rand_row2 = 0\n",
    "\n",
    "for i in range(50):\n",
    "    A = np.identity(n, sp.Rational)\n",
    "    rand = random.randint(1, 3)\n",
    "    if rand == 1:\n",
    "        rand_row1 = operation1(A)\n",
    "    elif rand == 2:\n",
    "        operation2(A)\n",
    "    elif rand == 3:\n",
    "        rand_row1, rand_row2 = operation3(A)\n",
    "    M = A.dot(M)\n",
    "    inv(rand, rand_row1, rand_row2)\n",
    "    M_inv = M_inv.dot(A)\n",
    "\n",
    "print(\"Invertible matrix M:\\n\", M)\n",
    "print(\"\\nM's inverse:\\n\", M_inv)\n",
    "print(\"\\nM dot M's inverse:\\n\", M.dot(M_inv))"
   ]
  },
  {
   "cell_type": "code",
   "execution_count": null,
   "metadata": {},
   "outputs": [],
   "source": []
  }
 ],
 "metadata": {
  "kernelspec": {
   "display_name": "Python 3",
   "language": "python",
   "name": "python3"
  },
  "language_info": {
   "codemirror_mode": {
    "name": "ipython",
    "version": 3
   },
   "file_extension": ".py",
   "mimetype": "text/x-python",
   "name": "python",
   "nbconvert_exporter": "python",
   "pygments_lexer": "ipython3",
   "version": "3.6.4"
  }
 },
 "nbformat": 4,
 "nbformat_minor": 2
}
